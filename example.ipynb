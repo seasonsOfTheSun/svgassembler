{
 "cells": [
  {
   "cell_type": "code",
   "execution_count": 5,
   "metadata": {},
   "outputs": [],
   "source": [
    "from svgassemble import Subplot, Plot"
   ]
  },
  {
   "cell_type": "code",
   "execution_count": 6,
   "metadata": {},
   "outputs": [],
   "source": [
    "plot = Plot(width=1000, height=300)\n",
    "\n",
    "filename = \"figures/ringiness_genes.svg\"\n",
    "example_subplot1 = Subplot(filename)\n",
    "plot.append(example_subplot1)\n",
    "\n",
    "filename = \"figures/ringiness_fibro.svg\"\n",
    "example_subplot2 = Subplot(filename)\n",
    "plot.append(example_subplot2)\n",
    "\n",
    "\n",
    "example_subplot1.scale(0.1)\n",
    "example_subplot1.translate(20,50)\n",
    "\n",
    "example_subplot2.scale(0.1)\n",
    "example_subplot2.translate(10,10)\n",
    "\n",
    "plot.write(\"myplot.svg\")"
   ]
  },
  {
   "cell_type": "code",
   "execution_count": null,
   "metadata": {},
   "outputs": [],
   "source": []
  }
 ],
 "metadata": {
  "@webio": {
   "lastCommId": null,
   "lastKernelId": null
  },
  "kernelspec": {
   "display_name": "Python 3",
   "language": "python",
   "name": "python3"
  },
  "language_info": {
   "codemirror_mode": {
    "name": "ipython",
    "version": 3
   },
   "file_extension": ".py",
   "mimetype": "text/x-python",
   "name": "python",
   "nbconvert_exporter": "python",
   "pygments_lexer": "ipython3",
   "version": "3.6.8"
  }
 },
 "nbformat": 4,
 "nbformat_minor": 2
}
